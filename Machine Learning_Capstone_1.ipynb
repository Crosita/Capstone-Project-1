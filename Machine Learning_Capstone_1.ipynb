{
 "cells": [
  {
   "cell_type": "markdown",
   "metadata": {},
   "source": [
    "# Capstone project 1: Predicting the number of visits in US neighborhoods (continued)\n",
    "# Machine Learning"
   ]
  },
  {
   "cell_type": "markdown",
   "metadata": {},
   "source": [
    "**Table of Content**\n",
    "- Introduction\n",
    "- Machine Learning\n",
    "- Conclusions"
   ]
  },
  {
   "cell_type": "markdown",
   "metadata": {},
   "source": [
    "## Introduction\n",
    "The goal of the machine learning part of the project is to ... "
   ]
  },
  {
   "cell_type": "markdown",
   "metadata": {},
   "source": [
    "## Machine Learning"
   ]
  },
  {
   "cell_type": "markdown",
   "metadata": {},
   "source": [
    "### Step 1: import modules and files"
   ]
  },
  {
   "cell_type": "code",
   "execution_count": 1,
   "metadata": {},
   "outputs": [
    {
     "name": "stderr",
     "output_type": "stream",
     "text": [
      "/Users/colinechabloz/anaconda3/lib/python3.7/site-packages/sklearn/externals/six.py:31: DeprecationWarning: The module is deprecated in version 0.21 and will be removed in version 0.23 since we've dropped support for Python 2.7. Please rely on the official version of six (https://pypi.org/project/six/).\n",
      "  \"(https://pypi.org/project/six/).\", DeprecationWarning)\n",
      "/Users/colinechabloz/anaconda3/lib/python3.7/site-packages/sklearn/externals/joblib/__init__.py:15: DeprecationWarning: sklearn.externals.joblib is deprecated in 0.21 and will be removed in 0.23. Please import this functionality directly from joblib, which can be installed with: pip install joblib. If this warning is raised when loading pickled models, you may need to re-serialize those models with scikit-learn 0.21+.\n",
      "  warnings.warn(msg, category=DeprecationWarning)\n"
     ]
    }
   ],
   "source": [
    "import pandas as pd\n",
    "import matplotlib.pyplot as plt\n",
    "import matplotlib.gridspec as gridspec\n",
    "import numpy as np\n",
    "import operator\n",
    "import geopandas as gpd\n",
    "import descartes\n",
    "import ast\n",
    "from shapely.geometry import Point , Polygon\n",
    "from collections import Counter\n",
    "from sklearn.cluster import OPTICS, cluster_optics_dbscan\n",
    "from sklearn.metrics import silhouette_score\n",
    "from sklearn.cluster import KMeans\n",
    "from sklearn.cluster import MiniBatchKMeans\n",
    "from sklearn import preprocessing\n",
    "import time\n",
    "from math import radians, cos, sin, atan2, sqrt\n",
    "import random\n",
    "import hdbscan\n",
    "%matplotlib inline"
   ]
  },
  {
   "cell_type": "code",
   "execution_count": 2,
   "metadata": {},
   "outputs": [],
   "source": [
    "file_path = '/Users/colinechabloz/Desktop/Datasets/Cluster/'\n",
    "x_cols1_df_n = 'x_cols1_df.csv'"
   ]
  },
  {
   "cell_type": "code",
   "execution_count": 3,
   "metadata": {},
   "outputs": [],
   "source": [
    "#Load several files from csv\n",
    "x_cols1_df = pd.read_csv((file_path+x_cols1_df_n), dtype={'census_block_group':str})"
   ]
  },
  {
   "cell_type": "code",
   "execution_count": 4,
   "metadata": {},
   "outputs": [
    {
     "data": {
      "text/html": [
       "<div>\n",
       "<style scoped>\n",
       "    .dataframe tbody tr th:only-of-type {\n",
       "        vertical-align: middle;\n",
       "    }\n",
       "\n",
       "    .dataframe tbody tr th {\n",
       "        vertical-align: top;\n",
       "    }\n",
       "\n",
       "    .dataframe thead th {\n",
       "        text-align: right;\n",
       "    }\n",
       "</style>\n",
       "<table border=\"1\" class=\"dataframe\">\n",
       "  <thead>\n",
       "    <tr style=\"text-align: right;\">\n",
       "      <th></th>\n",
       "      <th>Unnamed: 0</th>\n",
       "      <th>census_block_group</th>\n",
       "      <th>raw_visit_count</th>\n",
       "      <th>raw_visitor_count</th>\n",
       "      <th>distance_from_home</th>\n",
       "      <th>related_same_day_brand</th>\n",
       "      <th>related_same_month_brand</th>\n",
       "      <th>top_brands</th>\n",
       "      <th>latitude</th>\n",
       "      <th>longitude</th>\n",
       "      <th>...</th>\n",
       "      <th>vis_home_cbgs_count</th>\n",
       "      <th>vis_home_most_visits_from</th>\n",
       "      <th>vis_home_least_visits_from</th>\n",
       "      <th>avg_vis_home_visitors</th>\n",
       "      <th>visitor_work_cbgs</th>\n",
       "      <th>vis_work_cbgs_count</th>\n",
       "      <th>vis_work_most_visits_from</th>\n",
       "      <th>vis_work_least_visits_from</th>\n",
       "      <th>avg_vis_work_visitors</th>\n",
       "      <th>Cluster</th>\n",
       "    </tr>\n",
       "  </thead>\n",
       "  <tbody>\n",
       "    <tr>\n",
       "      <th>0</th>\n",
       "      <td>0</td>\n",
       "      <td>010059508001</td>\n",
       "      <td>75122.0</td>\n",
       "      <td>18314.0</td>\n",
       "      <td>194724.0</td>\n",
       "      <td>['chick-fil-a', 'mcdonalds', 'marathonpetroleu...</td>\n",
       "      <td>['walmart', 'mcdonalds', 'dollargeneral', 'chi...</td>\n",
       "      <td>['crossfit', 'healthmart', 'coldwellbanker']</td>\n",
       "      <td>31.920410</td>\n",
       "      <td>-85.175741</td>\n",
       "      <td>...</td>\n",
       "      <td>14</td>\n",
       "      <td>1.005950e+10</td>\n",
       "      <td>1.067030e+10</td>\n",
       "      <td>76.285714</td>\n",
       "      <td>{'010059501003': 109, '010810407002': 62, '010...</td>\n",
       "      <td>4</td>\n",
       "      <td>1.005950e+10</td>\n",
       "      <td>1.069040e+10</td>\n",
       "      <td>70.000000</td>\n",
       "      <td>2</td>\n",
       "    </tr>\n",
       "    <tr>\n",
       "      <th>1</th>\n",
       "      <td>1</td>\n",
       "      <td>010090506011</td>\n",
       "      <td>95649.0</td>\n",
       "      <td>38942.0</td>\n",
       "      <td>120587.0</td>\n",
       "      <td>['shelloil', 'mcdonalds', 'chick-fil-a', 'chev...</td>\n",
       "      <td>['walmart', 'mcdonalds', 'shelloil', 'chick-fi...</td>\n",
       "      <td>[]</td>\n",
       "      <td>33.863884</td>\n",
       "      <td>-86.903514</td>\n",
       "      <td>...</td>\n",
       "      <td>69</td>\n",
       "      <td>1.073011e+10</td>\n",
       "      <td>1.009051e+10</td>\n",
       "      <td>80.623188</td>\n",
       "      <td>{'010890111001': 271, '010730045001': 269, '01...</td>\n",
       "      <td>41</td>\n",
       "      <td>1.089011e+10</td>\n",
       "      <td>1.077011e+10</td>\n",
       "      <td>93.756098</td>\n",
       "      <td>2</td>\n",
       "    </tr>\n",
       "    <tr>\n",
       "      <th>2</th>\n",
       "      <td>2</td>\n",
       "      <td>010479572002</td>\n",
       "      <td>14009.0</td>\n",
       "      <td>3039.0</td>\n",
       "      <td>67774.0</td>\n",
       "      <td>['dollargeneral']</td>\n",
       "      <td>['walmart', 'dollargeneral', 'mcdonalds', 'che...</td>\n",
       "      <td>['dollargeneral']</td>\n",
       "      <td>32.357337</td>\n",
       "      <td>-87.014004</td>\n",
       "      <td>...</td>\n",
       "      <td>2</td>\n",
       "      <td>1.047957e+10</td>\n",
       "      <td>1.047957e+10</td>\n",
       "      <td>63.500000</td>\n",
       "      <td>{'010479567021': 52}</td>\n",
       "      <td>1</td>\n",
       "      <td>1.047957e+10</td>\n",
       "      <td>1.047957e+10</td>\n",
       "      <td>52.000000</td>\n",
       "      <td>0</td>\n",
       "    </tr>\n",
       "    <tr>\n",
       "      <th>3</th>\n",
       "      <td>3</td>\n",
       "      <td>010690404001</td>\n",
       "      <td>128169.0</td>\n",
       "      <td>25418.0</td>\n",
       "      <td>42684.0</td>\n",
       "      <td>['chick-fil-a', 'samsclub', 'dollargeneral', '...</td>\n",
       "      <td>['walmart', 'dollargeneral', 'mcdonalds', 'mar...</td>\n",
       "      <td>['chick-fil-a', 'samsclub', 'olivegarden', 'mc...</td>\n",
       "      <td>31.237327</td>\n",
       "      <td>-85.426331</td>\n",
       "      <td>...</td>\n",
       "      <td>92</td>\n",
       "      <td>1.069040e+10</td>\n",
       "      <td>1.069040e+10</td>\n",
       "      <td>99.000000</td>\n",
       "      <td>{'010690402024': 313, '010690415004': 203, '01...</td>\n",
       "      <td>23</td>\n",
       "      <td>1.069040e+10</td>\n",
       "      <td>1.031011e+10</td>\n",
       "      <td>108.173913</td>\n",
       "      <td>1</td>\n",
       "    </tr>\n",
       "    <tr>\n",
       "      <th>4</th>\n",
       "      <td>4</td>\n",
       "      <td>010730112101</td>\n",
       "      <td>51453.0</td>\n",
       "      <td>9499.0</td>\n",
       "      <td>18878.0</td>\n",
       "      <td>['chevron', 'daylightdonuts', 'walmart']</td>\n",
       "      <td>['walmart', 'chevron', 'dollargeneral', 'shell...</td>\n",
       "      <td>['chevron', 'crossfit']</td>\n",
       "      <td>33.671800</td>\n",
       "      <td>-86.690610</td>\n",
       "      <td>...</td>\n",
       "      <td>37</td>\n",
       "      <td>1.009051e+10</td>\n",
       "      <td>1.073012e+10</td>\n",
       "      <td>81.513514</td>\n",
       "      <td>{'010730045001': 140, '010730027001': 123, '01...</td>\n",
       "      <td>10</td>\n",
       "      <td>1.073005e+10</td>\n",
       "      <td>1.073002e+10</td>\n",
       "      <td>86.500000</td>\n",
       "      <td>2</td>\n",
       "    </tr>\n",
       "  </tbody>\n",
       "</table>\n",
       "<p>5 rows × 83 columns</p>\n",
       "</div>"
      ],
      "text/plain": [
       "   Unnamed: 0 census_block_group  raw_visit_count  raw_visitor_count  \\\n",
       "0           0       010059508001          75122.0            18314.0   \n",
       "1           1       010090506011          95649.0            38942.0   \n",
       "2           2       010479572002          14009.0             3039.0   \n",
       "3           3       010690404001         128169.0            25418.0   \n",
       "4           4       010730112101          51453.0             9499.0   \n",
       "\n",
       "   distance_from_home                             related_same_day_brand  \\\n",
       "0            194724.0  ['chick-fil-a', 'mcdonalds', 'marathonpetroleu...   \n",
       "1            120587.0  ['shelloil', 'mcdonalds', 'chick-fil-a', 'chev...   \n",
       "2             67774.0                                  ['dollargeneral']   \n",
       "3             42684.0  ['chick-fil-a', 'samsclub', 'dollargeneral', '...   \n",
       "4             18878.0           ['chevron', 'daylightdonuts', 'walmart']   \n",
       "\n",
       "                            related_same_month_brand  \\\n",
       "0  ['walmart', 'mcdonalds', 'dollargeneral', 'chi...   \n",
       "1  ['walmart', 'mcdonalds', 'shelloil', 'chick-fi...   \n",
       "2  ['walmart', 'dollargeneral', 'mcdonalds', 'che...   \n",
       "3  ['walmart', 'dollargeneral', 'mcdonalds', 'mar...   \n",
       "4  ['walmart', 'chevron', 'dollargeneral', 'shell...   \n",
       "\n",
       "                                          top_brands   latitude  longitude  \\\n",
       "0       ['crossfit', 'healthmart', 'coldwellbanker']  31.920410 -85.175741   \n",
       "1                                                 []  33.863884 -86.903514   \n",
       "2                                  ['dollargeneral']  32.357337 -87.014004   \n",
       "3  ['chick-fil-a', 'samsclub', 'olivegarden', 'mc...  31.237327 -85.426331   \n",
       "4                            ['chevron', 'crossfit']  33.671800 -86.690610   \n",
       "\n",
       "   ...  vis_home_cbgs_count  vis_home_most_visits_from  \\\n",
       "0  ...                   14               1.005950e+10   \n",
       "1  ...                   69               1.073011e+10   \n",
       "2  ...                    2               1.047957e+10   \n",
       "3  ...                   92               1.069040e+10   \n",
       "4  ...                   37               1.009051e+10   \n",
       "\n",
       "   vis_home_least_visits_from  avg_vis_home_visitors  \\\n",
       "0                1.067030e+10              76.285714   \n",
       "1                1.009051e+10              80.623188   \n",
       "2                1.047957e+10              63.500000   \n",
       "3                1.069040e+10              99.000000   \n",
       "4                1.073012e+10              81.513514   \n",
       "\n",
       "                                   visitor_work_cbgs  vis_work_cbgs_count  \\\n",
       "0  {'010059501003': 109, '010810407002': 62, '010...                    4   \n",
       "1  {'010890111001': 271, '010730045001': 269, '01...                   41   \n",
       "2                               {'010479567021': 52}                    1   \n",
       "3  {'010690402024': 313, '010690415004': 203, '01...                   23   \n",
       "4  {'010730045001': 140, '010730027001': 123, '01...                   10   \n",
       "\n",
       "   vis_work_most_visits_from  vis_work_least_visits_from  \\\n",
       "0               1.005950e+10                1.069040e+10   \n",
       "1               1.089011e+10                1.077011e+10   \n",
       "2               1.047957e+10                1.047957e+10   \n",
       "3               1.069040e+10                1.031011e+10   \n",
       "4               1.073005e+10                1.073002e+10   \n",
       "\n",
       "   avg_vis_work_visitors  Cluster  \n",
       "0              70.000000        2  \n",
       "1              93.756098        2  \n",
       "2              52.000000        0  \n",
       "3             108.173913        1  \n",
       "4              86.500000        2  \n",
       "\n",
       "[5 rows x 83 columns]"
      ]
     },
     "execution_count": 4,
     "metadata": {},
     "output_type": "execute_result"
    }
   ],
   "source": [
    "x_cols1_df.head()"
   ]
  },
  {
   "cell_type": "code",
   "execution_count": 5,
   "metadata": {},
   "outputs": [
    {
     "data": {
      "text/plain": [
       "(220240, 83)"
      ]
     },
     "execution_count": 5,
     "metadata": {},
     "output_type": "execute_result"
    }
   ],
   "source": [
    "x_cols1_df.shape"
   ]
  },
  {
   "cell_type": "markdown",
   "metadata": {},
   "source": [
    "- filter cluster = 0 \n",
    "- split train (70%) and test (20%) and validation (10%) to be used at the end to perform new predictions and create plots other than when training/testing the model\n",
    "- with train set: regression y .. X ... parameters (decide metrics: eg; minimum root mean squared error)\n",
    "- with test set : predict (same regression)\n",
    "- measure performance of regression with train and the performance of regression with test \n",
    "- compare performances and evaluate the quality of model"
   ]
  },
  {
   "cell_type": "code",
   "execution_count": 6,
   "metadata": {},
   "outputs": [],
   "source": [
    "#cluster 0\n",
    "x_cols1_df_0 = x_cols1_df[x_cols1_df['Cluster'] == 0]"
   ]
  },
  {
   "cell_type": "code",
   "execution_count": 26,
   "metadata": {},
   "outputs": [],
   "source": [
    "from sklearn.model_selection import train_test_split\n",
    "from sklearn.linear_model import LinearRegression\n",
    "from sklearn.metrics import mean_squared_error"
   ]
  },
  {
   "cell_type": "code",
   "execution_count": 9,
   "metadata": {},
   "outputs": [],
   "source": [
    "y = x_cols1_df_0[\"raw_visit_count\"]"
   ]
  },
  {
   "cell_type": "code",
   "execution_count": 10,
   "metadata": {},
   "outputs": [],
   "source": [
    "x_cols = np.array(x_cols1_df_0[['12am','1am', '2am', '3am', '4am', '5am', '6am', '7am', '8am', '9am', '10am', '11am', '12pm', '1pm', '2pm', '3pm', '4pm', '5pm', '6pm', '7pm', '8pm', '9pm', '10pm', '11pm', 'Monday', 'Tuesday', 'Wednesday', 'Thursday', 'Friday', 'Saturday', 'Sunday']])"
   ]
  },
  {
   "cell_type": "code",
   "execution_count": 11,
   "metadata": {},
   "outputs": [],
   "source": [
    "X = np.asmatrix(x_cols)"
   ]
  },
  {
   "cell_type": "code",
   "execution_count": 12,
   "metadata": {
    "scrolled": true
   },
   "outputs": [
    {
     "data": {
      "text/plain": [
       "matrix([[ 807.,  790.,  796., ..., 2076., 1707., 1536.],\n",
       "        [2459., 2397., 2363., ..., 3712., 3138., 2893.],\n",
       "        [ 673.,  554.,  484., ..., 2942., 2497., 2257.],\n",
       "        ...,\n",
       "        [ 758.,  735.,  735., ...,  952.,  792.,  650.],\n",
       "        [ 364.,  350.,  358., ...,  375.,  336.,  285.],\n",
       "        [ 599.,  587.,  563., ...,  943.,  938.,  846.]])"
      ]
     },
     "execution_count": 12,
     "metadata": {},
     "output_type": "execute_result"
    }
   ],
   "source": [
    "X"
   ]
  },
  {
   "cell_type": "code",
   "execution_count": 19,
   "metadata": {},
   "outputs": [
    {
     "data": {
      "text/plain": [
       "LinearRegression(copy_X=True, fit_intercept=True, n_jobs=None, normalize=False)"
      ]
     },
     "execution_count": 19,
     "metadata": {},
     "output_type": "execute_result"
    }
   ],
   "source": [
    "X_train, X_test, y_train, y_test = train_test_split(X, y, test_size = 0.2, random_state = 42)\n",
    "reg_all = LinearRegression()\n",
    "reg_all.fit(X_train, y_train)"
   ]
  },
  {
   "cell_type": "code",
   "execution_count": 20,
   "metadata": {},
   "outputs": [],
   "source": [
    "y_pred = reg_all.predict(X_test)"
   ]
  },
  {
   "cell_type": "code",
   "execution_count": 21,
   "metadata": {},
   "outputs": [
    {
     "data": {
      "text/plain": [
       "1.0"
      ]
     },
     "execution_count": 21,
     "metadata": {},
     "output_type": "execute_result"
    }
   ],
   "source": [
    "reg_all.score(X_test, y_test)"
   ]
  },
  {
   "cell_type": "code",
   "execution_count": 23,
   "metadata": {},
   "outputs": [
    {
     "name": "stdout",
     "output_type": "stream",
     "text": [
      "R^2: 1.0\n"
     ]
    }
   ],
   "source": [
    "print(\"R^2: {}\".format(reg_all.score(X_test, y_test)))"
   ]
  },
  {
   "cell_type": "code",
   "execution_count": 27,
   "metadata": {},
   "outputs": [],
   "source": [
    "rmse = np.sqrt(mean_squared_error(y_test,y_pred))"
   ]
  },
  {
   "cell_type": "code",
   "execution_count": 28,
   "metadata": {},
   "outputs": [
    {
     "name": "stdout",
     "output_type": "stream",
     "text": [
      "Root Mean Squared Error: 5.968098552999438e-11\n"
     ]
    }
   ],
   "source": [
    "print(\"Root Mean Squared Error: {}\".format(rmse))"
   ]
  },
  {
   "cell_type": "code",
   "execution_count": null,
   "metadata": {},
   "outputs": [],
   "source": []
  }
 ],
 "metadata": {
  "kernelspec": {
   "display_name": "Python 3",
   "language": "python",
   "name": "python3"
  },
  "language_info": {
   "codemirror_mode": {
    "name": "ipython",
    "version": 3
   },
   "file_extension": ".py",
   "mimetype": "text/x-python",
   "name": "python",
   "nbconvert_exporter": "python",
   "pygments_lexer": "ipython3",
   "version": "3.7.3"
  }
 },
 "nbformat": 4,
 "nbformat_minor": 2
}
